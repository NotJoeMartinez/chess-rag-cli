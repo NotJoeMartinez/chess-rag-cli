{
 "cells": [
  {
   "cell_type": "code",
   "execution_count": 7,
   "id": "fe310118-8b64-4aa1-82ed-21e0cfce780f",
   "metadata": {},
   "outputs": [],
   "source": [
    "# pip install openai sqlite-vec\n",
    "from openai import OpenAI\n",
    "import sqlite3\n",
    "import sqlite_vec\n",
    "import struct\n",
    "from typing import List\n",
    "import requests\n",
    "import re"
   ]
  },
  {
   "cell_type": "markdown",
   "id": "02f25149",
   "metadata": {},
   "source": [
    "### Init DB"
   ]
  },
  {
   "cell_type": "code",
   "execution_count": 9,
   "id": "b5b5dcf7-82ec-4d70-9431-9bd7eebeaffe",
   "metadata": {},
   "outputs": [],
   "source": [
    "# init db\n",
    "with sqlite3.connect('test_chess_vec.db') as conn:\n",
    "    curr = conn.cursor()\n",
    "    conn.enable_load_extension(True)\n",
    "    sqlite_vec.load(conn)\n",
    "    conn.enable_load_extension(False)\n",
    "    \n",
    "    # basic schema\n",
    "    curr.execute(\n",
    "        '''\n",
    "        CREATE TABLE IF NOT EXISTS users (\n",
    "            username TEXT UNIQUE, \n",
    "            last_updated TEXT\n",
    "            )\n",
    "        '''\n",
    "    )\n",
    "    curr.execute(\n",
    "        '''\n",
    "        CREATE TABLE IF NOT EXISTS games (\n",
    "            url TEXT UNIQUE,\n",
    "            pgn TEXT,\n",
    "            time_control TEXT,\n",
    "            end_time TEXT,\n",
    "            rated TEXT,\n",
    "            accuracies_white REAL,\n",
    "            accuracies_black REAL,\n",
    "            tcn TEXT,\n",
    "            uuid TEXT,\n",
    "            initial_setup TEXT,\n",
    "            fen TEXT,\n",
    "            time_class TEXT,\n",
    "            rules TEXT,\n",
    "            white_rating INTEGER,\n",
    "            white_result TEXT,\n",
    "            white_username TEXT,\n",
    "            white_uuid TEXT,\n",
    "            black_rating INTEGER,\n",
    "            black_result TEXT,\n",
    "            black_username TEXT,\n",
    "            black_uuid TEXT,\n",
    "            eco TEXT \n",
    "        )\n",
    "        '''\n",
    "    )\n",
    "\n",
    "    curr.execute(\n",
    "    \"\"\"\n",
    "        CREATE VIRTUAL TABLE pgn_embeddings USING vec0(\n",
    "            url TEXT PRIMARY KEY UNIQUE,\n",
    "            pgn_embedding FLOAT[1536]\n",
    "        );\n",
    "    \"\"\"\n",
    "    )\n",
    "\n",
    "    conn.commit()"
   ]
  },
  {
   "cell_type": "markdown",
   "id": "a5e18ccb",
   "metadata": {},
   "source": [
    "### Insert Test Data"
   ]
  },
  {
   "cell_type": "code",
   "execution_count": 11,
   "id": "da227c80",
   "metadata": {},
   "outputs": [
    {
     "name": "stdout",
     "output_type": "stream",
     "text": [
      "Updating notjoemartinez\n",
      "Inserting games into database...\n"
     ]
    }
   ],
   "source": [
    "from utils import add_or_update_user, fetch_user_archives\n",
    "\n",
    "username = 'notjoemartinez'\n",
    "\n",
    "add_or_update_user(username)\n",
    "fetch_user_archives(username)\n"
   ]
  },
  {
   "cell_type": "markdown",
   "id": "f7e523d3",
   "metadata": {},
   "source": [
    "### Add embeddings to pgn_embeddings"
   ]
  },
  {
   "cell_type": "code",
   "execution_count": null,
   "id": "9dcfc197",
   "metadata": {},
   "outputs": [],
   "source": [
    "def serialize(vector: List[float]) -> bytes:\n",
    "    \"\"\"serializes a list of floats into a compact \"raw bytes\" format\"\"\"\n",
    "    return struct.pack(\"%sf\" % len(vector), *vector)\n",
    "\n",
    "def get_embedding(text, model=\"text-embedding-3-small\"):\n",
    "\n",
    "    client = OpenAI()\n",
    "    text_embedding = client.embeddings.create(input=[text], model=model).data[0].embedding\n",
    "\n",
    "    return text_embedding\n",
    "\n",
    "\n",
    "username = 'notjoemartinez'\n",
    "\n",
    "with sqlite3.connect('test_chess_vec.db') as conn:\n",
    "    curr = conn.cursor()\n",
    "\n",
    "    curr.execute(\n",
    "        \"\"\"\n",
    "        SELECT url, pgn FROM games\n",
    "        WHERE white_username = ? OR black_username = ?\n",
    "        \"\"\", (username, username)\n",
    "    )\n",
    "    \n",
    "    games = curr.fetchall()\n",
    "\n",
    "    for url, pgn in games:\n",
    "        print(url)\n",
    "        pgn_embedding = get_embedding(pgn)\n",
    "        curr.execute(\n",
    "                \"INSERT OR IGNORE INTO pgn_embeddings(url, pgn_embedding) VALUES(?, ?)\",\n",
    "                [url, serialize(pgn_embedding)],\n",
    "            )\n"
   ]
  }
 ],
 "metadata": {
  "kernelspec": {
   "display_name": ".venv",
   "language": "python",
   "name": "python3"
  },
  "language_info": {
   "codemirror_mode": {
    "name": "ipython",
    "version": 3
   },
   "file_extension": ".py",
   "mimetype": "text/x-python",
   "name": "python",
   "nbconvert_exporter": "python",
   "pygments_lexer": "ipython3",
   "version": "3.13.0"
  }
 },
 "nbformat": 4,
 "nbformat_minor": 5
}
