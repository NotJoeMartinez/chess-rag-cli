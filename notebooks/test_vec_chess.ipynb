{
 "cells": [
  {
   "cell_type": "code",
   "execution_count": 1,
   "id": "fe310118-8b64-4aa1-82ed-21e0cfce780f",
   "metadata": {},
   "outputs": [],
   "source": [
    "# pip install openai sqlite-vec\n",
    "\n",
    "from openai import OpenAI\n",
    "import sqlite3\n",
    "import sqlite_vec\n",
    "import struct\n",
    "from typing import List"
   ]
  },
  {
   "cell_type": "markdown",
   "id": "02f25149",
   "metadata": {},
   "source": [
    "### Init DB"
   ]
  },
  {
   "cell_type": "code",
   "execution_count": 2,
   "id": "b5b5dcf7-82ec-4d70-9431-9bd7eebeaffe",
   "metadata": {},
   "outputs": [],
   "source": [
    "# init db\n",
    "with sqlite3.connect('test_chess_vec.db') as conn:\n",
    "    curr = conn.cursor()\n",
    "    conn.enable_load_extension(True)\n",
    "    sqlite_vec.load(conn)\n",
    "    conn.enable_load_extension(False)\n",
    "    \n",
    "    # basic schema\n",
    "    curr.execute(\n",
    "        '''\n",
    "        CREATE TABLE IF NOT EXISTS users (\n",
    "            username TEXT UNIQUE, \n",
    "            last_updated TEXT\n",
    "            )\n",
    "        '''\n",
    "    )\n",
    "    curr.execute(\n",
    "        '''\n",
    "        CREATE TABLE IF NOT EXISTS games (\n",
    "            url TEXT UNIQUE,\n",
    "            pgn TEXT,\n",
    "            time_control TEXT,\n",
    "            end_time TEXT,\n",
    "            rated TEXT,\n",
    "            accuracies_white REAL,\n",
    "            accuracies_black REAL,\n",
    "            tcn TEXT,\n",
    "            uuid TEXT,\n",
    "            initial_setup TEXT,\n",
    "            fen TEXT,\n",
    "            time_class TEXT,\n",
    "            rules TEXT,\n",
    "            white_rating INTEGER,\n",
    "            white_result TEXT,\n",
    "            white_username TEXT,\n",
    "            white_uuid TEXT,\n",
    "            black_rating INTEGER,\n",
    "            black_result TEXT,\n",
    "            black_username TEXT,\n",
    "            black_uuid TEXT,\n",
    "            eco TEXT \n",
    "        )\n",
    "        '''\n",
    "    )\n",
    "\n",
    "    conn.execute(\n",
    "    \"\"\"\n",
    "        CREATE VIRTUAL TABLE pgn_embeddings USING vec0(\n",
    "            url TEXT PRIMARY KEY UNIQUE,\n",
    "            pgn_embedding FLOAT[1536]\n",
    "        );\n",
    "    \"\"\"\n",
    "    )\n",
    "\n",
    "    conn.commit()"
   ]
  },
  {
   "cell_type": "markdown",
   "id": "a5e18ccb",
   "metadata": {},
   "source": [
    "### Insert Test Data\n"
   ]
  }
 ],
 "metadata": {
  "kernelspec": {
   "display_name": ".venv",
   "language": "python",
   "name": "python3"
  },
  "language_info": {
   "codemirror_mode": {
    "name": "ipython",
    "version": 3
   },
   "file_extension": ".py",
   "mimetype": "text/x-python",
   "name": "python",
   "nbconvert_exporter": "python",
   "pygments_lexer": "ipython3",
   "version": "3.13.0"
  }
 },
 "nbformat": 4,
 "nbformat_minor": 5
}
